{
 "cells": [
  {
   "cell_type": "markdown",
   "metadata": {
    "slideshow": {
     "slide_type": "slide"
    }
   },
   "source": [
    "**1st Cycle Tech Support Team Work Summary**"
   ]
  },
  {
   "cell_type": "markdown",
   "metadata": {
    "slideshow": {
     "slide_type": "slide"
    }
   },
   "source": [
    "**This script is mainly used to grab tables in PDF and generate CSV files  \n",
    "script doesn't fit well before 2000  \n",
    "(Jia Pengyue&emsp;&emsp;2020.6.24)**  "
   ]
  },
  {
   "cell_type": "markdown",
   "metadata": {
    "slideshow": {
     "slide_type": "slide"
    }
   },
   "source": [
    "## 导入所需依赖"
   ]
  },
  {
   "cell_type": "markdown",
   "metadata": {
    "slideshow": {
     "slide_type": "fragment"
    }
   },
   "source": [
    "这里要pip install PyMuPDF 安装fitz的辅助环境  \n",
    "其余包pip install即可"
   ]
  },
  {
   "cell_type": "markdown",
   "metadata": {
    "slideshow": {
     "slide_type": "fragment"
    }
   },
   "source": [
    "> pip install fitz lxml==4.3 networkx==2.0 -i https://pypi.tuna.tsinghua.edu.cn/simple/"
   ]
  },
  {
   "cell_type": "code",
   "execution_count": 5,
   "metadata": {
    "slideshow": {
     "slide_type": "fragment"
    }
   },
   "outputs": [],
   "source": [
    "import os\n",
    "from pathlib2 import Path\n",
    "import pandas as pd\n",
    "import fitz\n",
    "import glob\n",
    "import tabula\n",
    "import pytesseract\n",
    "import subprocess\n",
    "from PIL import Image"
   ]
  },
  {
   "cell_type": "markdown",
   "metadata": {
    "slideshow": {
     "slide_type": "slide"
    }
   },
   "source": [
    "## 创建文件目录及声明路径"
   ]
  },
  {
   "cell_type": "markdown",
   "metadata": {
    "slideshow": {
     "slide_type": "fragment"
    }
   },
   "source": [
    "首先创建文件目录，如下图所示。  \n",
    "pdf文件存于pdfs文件夹中"
   ]
  },
  {
   "cell_type": "markdown",
   "metadata": {
    "slideshow": {
     "slide_type": "fragment"
    }
   },
   "source": [
    "|---geology_big_data  \n",
    "&nbsp;&nbsp;&nbsp;&nbsp;&nbsp;|---pdfs  \n",
    "&nbsp;&nbsp;&nbsp;&nbsp;&nbsp;|---figures  \n",
    "&nbsp;&nbsp;&nbsp;&nbsp;&nbsp;|---ABBYY  \n",
    "&nbsp;&nbsp;&nbsp;&nbsp;&nbsp;|---result_ZJUgeology  \n",
    "&nbsp;&nbsp;&nbsp;&nbsp;&nbsp;|---csv"
   ]
  },
  {
   "cell_type": "code",
   "execution_count": 3,
   "metadata": {
    "slideshow": {
     "slide_type": "fragment"
    }
   },
   "outputs": [],
   "source": [
    "# 整个项目的根目录\n",
    "root_path = 'C:\\\\Users\\\\Administrator\\\\Desktop\\\\code\\\\python\\\\GIS-python\\\\geology_big_data\\\\'\n",
    "pdf_path = root_path + 'pdfs\\\\'\n",
    "#result文件夹的命名请尽量复杂，确保不会在论文名称中出现\n",
    "result_path = root_path + 'result_ZJUgeology\\\\'\n",
    "figure_path = root_path + 'figures\\\\'\n",
    "ABBYY_path = root_path + 'ABBYY\\\\'"
   ]
  },
  {
   "cell_type": "markdown",
   "metadata": {
    "slideshow": {
     "slide_type": "slide"
    }
   },
   "source": [
    "## 抓取表格另存为png图片"
   ]
  },
  {
   "cell_type": "markdown",
   "metadata": {
    "slideshow": {
     "slide_type": "fragment"
    }
   },
   "source": [
    "1.需要提前安装PDFFigures2  \n",
    "https://github.com/allenai/pdffigures2  \n",
    "https://titipata.github.io/2016/11/06/pdffigure2.html  \n",
    "2.安装java环境（注意配置完环境变量）  \n",
    "https://www.runoob.com/java/java-environment-setup.html#win-install  \n",
    "3.安装sbt  \n",
    "注意这里sbt的安装路径不要有空格  \n",
    "https://www.scala-sbt.org/download.html  \n",
    "安装的文档  \n",
    "https://blog.csdn.net/weixin_41846320/article/details/84784175   \n",
    "使用说明  \n",
    "https://titipata.github.io/2016/11/06/pdffigure2.html  \n",
    "> **2、3两步安装好的测试都是在cmd内输入java -version 与 sbt -version 如果有显示，则说明安装完毕了**"
   ]
  },
  {
   "cell_type": "markdown",
   "metadata": {
    "slideshow": {
     "slide_type": "fragment"
    }
   },
   "source": [
    "出现Java的不能运行powershell.exe错误，则需为系统加入环境变量C:\\Windows\\System32\\WindowsPowerShell\\v1.0"
   ]
  },
  {
   "cell_type": "markdown",
   "metadata": {
    "slideshow": {
     "slide_type": "slide"
    }
   },
   "source": [
    "### 创建result文件夹"
   ]
  },
  {
   "cell_type": "code",
   "execution_count": 9,
   "metadata": {
    "slideshow": {
     "slide_type": "fragment"
    }
   },
   "outputs": [],
   "source": [
    "files = os.listdir(path=pdf_path)\n",
    "for pdf in files:\n",
    "    pdf_name = pdf[:-4] #去除.pdf后缀\n",
    "    #在结果文件夹中创建pdf名字的文件夹\n",
    "    subprocess.run([\"cmd\",\"/c\",\"mkdir\",\"{}{}\".format(result_path, pdf_name)],shell=True)"
   ]
  },
  {
   "cell_type": "markdown",
   "metadata": {
    "slideshow": {
     "slide_type": "slide"
    }
   },
   "source": [
    "### 创建figures对应文件夹"
   ]
  },
  {
   "cell_type": "code",
   "execution_count": 10,
   "metadata": {
    "slideshow": {
     "slide_type": "fragment"
    }
   },
   "outputs": [],
   "source": [
    "for pdf in files:\n",
    "    pdf_name = pdf[:-4] #去除.pdf后缀\n",
    "    os.system('mkdir {}{}'.format(figure_path,pdf_name))"
   ]
  },
  {
   "cell_type": "markdown",
   "metadata": {
    "slideshow": {
     "slide_type": "slide"
    }
   },
   "source": [
    "### 提取图片和表格存为png"
   ]
  },
  {
   "cell_type": "code",
   "execution_count": 11,
   "metadata": {
    "slideshow": {
     "slide_type": "fragment"
    }
   },
   "outputs": [],
   "source": [
    "#将目录调整至pdffigures2文件夹\n",
    "os.chdir('C:\\\\Users\\\\Administrator\\\\pdffigures2')\n",
    "#执行sbt语句\n",
    "for pdf in files:\n",
    "    pdf_name = pdf[:-4]\n",
    "    os.system('sbt \"runMain org.allenai.pdffigures2.FigureExtractorBatchCli {0}{1} -s {2}.json -m {3}{4}\\\\{5} -d {6}{7}\\\\{8}\"'\\\n",
    "          .format(pdf_path,pdf,pdf_name,result_path,pdf_name,pdf_name,result_path,pdf_name,pdf_name))"
   ]
  },
  {
   "cell_type": "markdown",
   "metadata": {
    "slideshow": {
     "slide_type": "slide"
    }
   },
   "source": [
    "## 生成表格PDF"
   ]
  },
  {
   "cell_type": "markdown",
   "metadata": {
    "slideshow": {
     "slide_type": "slide"
    }
   },
   "source": [
    "### 筛选表格png"
   ]
  },
  {
   "cell_type": "code",
   "execution_count": 12,
   "metadata": {
    "slideshow": {
     "slide_type": "fragment"
    }
   },
   "outputs": [],
   "source": [
    "for root,dirnames,files in os.walk('C:/Users/Administrator/Desktop/code/python/GIS-python/geology_big_data/result_ZJUgeology'):\n",
    "    for file in files:\n",
    "        if 'Table' not in file:\n",
    "            os.system('move {0}\\\\{1} {2}'.format(root,file,root.replace('result_ZJUgeology','figures')))"
   ]
  },
  {
   "cell_type": "markdown",
   "metadata": {
    "slideshow": {
     "slide_type": "slide"
    }
   },
   "source": [
    "### 创建同名pdf文件"
   ]
  },
  {
   "cell_type": "code",
   "execution_count": 13,
   "metadata": {
    "slideshow": {
     "slide_type": "fragment"
    }
   },
   "outputs": [],
   "source": [
    "for root,dirnames,files in os.walk('C:/Users/Administrator/Desktop/code/python/GIS-python/geology_big_data/result_ZJUgeology'):\n",
    "    for file in files:\n",
    "        if '.png' in file:\n",
    "            path_file = '{}\\{}'.format(root,file)\n",
    "            path_file = path_file.replace('/','\\\\')\n",
    "            imgdoc = fitz.open(path_file)\n",
    "            pdfbytes = imgdoc.convertToPDF()    # 使用图片创建单页的 PDF\n",
    "            imgpdf = fitz.open(\"pdf\", pdfbytes)\n",
    "            imgpdf.save(path_file[:-4] + '.pdf')"
   ]
  },
  {
   "cell_type": "markdown",
   "metadata": {
    "slideshow": {
     "slide_type": "slide"
    }
   },
   "source": [
    "## 用pytesseract转换png为pdf"
   ]
  },
  {
   "cell_type": "markdown",
   "metadata": {},
   "source": [
    "需要提前配置tesseract"
   ]
  },
  {
   "cell_type": "code",
   "execution_count": 14,
   "metadata": {
    "slideshow": {
     "slide_type": "fragment"
    }
   },
   "outputs": [],
   "source": [
    "for root,dirnames,files in os.walk('C:/Users/Administrator/Desktop/code/python/GIS-python/geology_big_data/result_ZJUgeology'):\n",
    "    for file in files:\n",
    "        if '.png' in file:\n",
    "            pdf = pytesseract.image_to_pdf_or_hocr(\"{}\\\\{}\".format(root,file), extension='pdf')\n",
    "            with open('{}\\\\{}.pdf'.format(root,file[:-4]), 'w+b') as f:\n",
    "                f.write(pdf) # pdf type is bytes by default"
   ]
  },
  {
   "cell_type": "markdown",
   "metadata": {
    "slideshow": {
     "slide_type": "slide"
    }
   },
   "source": [
    "## 使用tabula提取表格并保存为csv"
   ]
  },
  {
   "cell_type": "code",
   "execution_count": 15,
   "metadata": {
    "slideshow": {
     "slide_type": "fragment"
    }
   },
   "outputs": [],
   "source": [
    "for root,dirnames,files in os.walk('C:/Users/Administrator/Desktop/code/python/GIS-python/geology_big_data/result_ZJUgeology'):\n",
    "    for file in files:\n",
    "        if '.pdf' in file:\n",
    "            try:\n",
    "                tabula.io.convert_into('{}\\\\{}'.format(root,file),\"C:\\\\Users\\\\Administrator\\\\Desktop\\\\code\\\\python\\\\GIS-python\\\\geology_big_data\\\\csv\\\\{}.csv\".format(file[:-4]),output_format='csv',pages='all')\n",
    "            except Exception:\n",
    "                pass"
   ]
  }
 ],
 "metadata": {
  "kernelspec": {
   "display_name": "Python 3",
   "language": "python",
   "name": "python3"
  },
  "language_info": {
   "codemirror_mode": {
    "name": "ipython",
    "version": 3
   },
   "file_extension": ".py",
   "mimetype": "text/x-python",
   "name": "python",
   "nbconvert_exporter": "python",
   "pygments_lexer": "ipython3",
   "version": "3.6.5"
  },
  "toc": {
   "base_numbering": 1,
   "nav_menu": {},
   "number_sections": true,
   "sideBar": true,
   "skip_h1_title": false,
   "title_cell": "Table of Contents",
   "title_sidebar": "Contents",
   "toc_cell": false,
   "toc_position": {},
   "toc_section_display": true,
   "toc_window_display": false
  }
 },
 "nbformat": 4,
 "nbformat_minor": 4
}
